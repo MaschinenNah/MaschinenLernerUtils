{
  "nbformat": 4,
  "nbformat_minor": 0,
  "metadata": {
    "colab": {
      "name": "UtilsTest.ipynb",
      "provenance": [],
      "authorship_tag": "ABX9TyN2uZj01/aYC1BPfZy956vD",
      "include_colab_link": true
    },
    "kernelspec": {
      "name": "python3",
      "display_name": "Python 3"
    },
    "language_info": {
      "name": "python"
    }
  },
  "cells": [
    {
      "cell_type": "markdown",
      "metadata": {
        "id": "view-in-github",
        "colab_type": "text"
      },
      "source": [
        "<a href=\"https://colab.research.google.com/github/MaschinenNah/MaschinenLernerUtils/blob/main/UtilsTest.ipynb\" target=\"_parent\"><img src=\"https://colab.research.google.com/assets/colab-badge.svg\" alt=\"Open In Colab\"/></a>"
      ]
    },
    {
      "cell_type": "code",
      "metadata": {
        "id": "Xa4UVGR21YbD",
        "outputId": "dc36d4b6-6e1a-46a4-f0bf-9e30a9ae988c",
        "colab": {
          "base_uri": "https://localhost:8080/"
        }
      },
      "source": [
        "!curl \"https://raw.githubusercontent.com/MaschinenNah/MaschinenLernerUtils/main/utils.py\" -o utils.py"
      ],
      "execution_count": 1,
      "outputs": [
        {
          "output_type": "stream",
          "text": [
            "  % Total    % Received % Xferd  Average Speed   Time    Time     Time  Current\n",
            "                                 Dload  Upload   Total   Spent    Left  Speed\n",
            "\r  0     0    0     0    0     0      0      0 --:--:-- --:--:-- --:--:--     0\r  0     0    0     0    0     0      0      0 --:--:-- --:--:-- --:--:--     0\r100   632  100   632    0     0   3695      0 --:--:-- --:--:-- --:--:--  3674\n"
          ],
          "name": "stdout"
        }
      ]
    }
  ]
}