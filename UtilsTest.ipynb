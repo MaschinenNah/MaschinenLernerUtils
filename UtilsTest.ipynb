{
  "nbformat": 4,
  "nbformat_minor": 0,
  "metadata": {
    "colab": {
      "name": "UtilsTest.ipynb",
      "provenance": [],
      "authorship_tag": "ABX9TyMnF4nVrp960pjPyiT3sTCS",
      "include_colab_link": true
    },
    "kernelspec": {
      "name": "python3",
      "display_name": "Python 3"
    },
    "language_info": {
      "name": "python"
    }
  },
  "cells": [
    {
      "cell_type": "markdown",
      "metadata": {
        "id": "view-in-github",
        "colab_type": "text"
      },
      "source": [
        "<a href=\"https://colab.research.google.com/github/MaschinenNah/MaschinenLernerUtils/blob/main/UtilsTest.ipynb\" target=\"_parent\"><img src=\"https://colab.research.google.com/assets/colab-badge.svg\" alt=\"Open In Colab\"/></a>"
      ]
    },
    {
      "cell_type": "code",
      "metadata": {
        "id": "Xa4UVGR21YbD",
        "colab": {
          "base_uri": "https://localhost:8080/"
        },
        "outputId": "5386555e-8680-4de9-fcb0-6428de2aa43e"
      },
      "source": [
        "!curl \"https://raw.githubusercontent.com/MaschinenNah/MaschinenLernerUtils/main/utils.py\" -o utils.py"
      ],
      "execution_count": 1,
      "outputs": [
        {
          "output_type": "stream",
          "text": [
            "  % Total    % Received % Xferd  Average Speed   Time    Time     Time  Current\n",
            "                                 Dload  Upload   Total   Spent    Left  Speed\n",
            "100   634  100   634    0     0   3937      0 --:--:-- --:--:-- --:--:--  3937\n"
          ],
          "name": "stdout"
        }
      ]
    },
    {
      "cell_type": "code",
      "metadata": {
        "id": "2WQ6JYv91lgs",
        "outputId": "a45e3375-e543-406c-fcc3-f414bafa2ac8",
        "colab": {
          "base_uri": "https://localhost:8080/"
        }
      },
      "source": [
        "import importlib\n",
        "import utils\n",
        "importlib.reload(utils)"
      ],
      "execution_count": 19,
      "outputs": [
        {
          "output_type": "execute_result",
          "data": {
            "text/plain": [
              "<module 'utils' from '/content/utils.py'>"
            ]
          },
          "metadata": {
            "tags": []
          },
          "execution_count": 19
        }
      ]
    },
    {
      "cell_type": "code",
      "metadata": {
        "id": "HgeBe_Ko2jA3"
      },
      "source": [
        "utils.load_and_unzip_from_url(\"http://pitnoack.de/mn/formate_vereinheitlichen/data.zip\")"
      ],
      "execution_count": 10,
      "outputs": []
    },
    {
      "cell_type": "code",
      "metadata": {
        "id": "i0noB8El4xs0"
      },
      "source": [
        "img_as_array = utils.img_path_to_np_array(\"/content/data/img_raw/1109056_1.jpg\")"
      ],
      "execution_count": 16,
      "outputs": []
    },
    {
      "cell_type": "code",
      "metadata": {
        "id": "SVLPq5wq5uDx",
        "outputId": "81e92119-4af0-41aa-d773-ab4c145da825",
        "colab": {
          "base_uri": "https://localhost:8080/"
        }
      },
      "source": [
        "help(utils.load_and_unzip_from_url)"
      ],
      "execution_count": 18,
      "outputs": [
        {
          "output_type": "stream",
          "text": [
            "Help on function load_and_unzip_from_url in module utils:\n",
            "\n",
            "load_and_unzip_from_url(zipurl)\n",
            "    Lädt das zipfile unter zipurl und entpackt es ins aktuelle Arbeitsverzeichnis\n",
            "\n"
          ],
          "name": "stdout"
        }
      ]
    },
    {
      "cell_type": "code",
      "metadata": {
        "id": "cvgdrprS5ilS"
      },
      "source": [
        ""
      ],
      "execution_count": null,
      "outputs": []
    }
  ]
}